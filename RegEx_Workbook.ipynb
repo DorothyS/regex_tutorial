{
 "cells": [
  {
   "cell_type": "markdown",
   "metadata": {
    "slideshow": {
     "slide_type": "slide"
    }
   },
   "source": [
    "# Welcome to Regular Expressions!\n",
    "\n",
    "What are regular expressions?<br>They're a shorthand in programming for pattern matching.\n",
    "Data that follows a pattern are recognized, regardless of what the data actually is.<br>\n",
    "So what does that mean?\n",
    "\n",
    "Please note: All facts (example strings) are taken from www.twitter.com/qikipedia"
   ]
  },
  {
   "cell_type": "markdown",
   "metadata": {
    "slideshow": {
     "slide_type": "slide"
    }
   },
   "source": [
    "## `(###) ###-####`"
   ]
  },
  {
   "cell_type": "markdown",
   "metadata": {
    "slideshow": {
     "slide_type": "slide"
    }
   },
   "source": [
    "## `###-##-####`"
   ]
  },
  {
   "cell_type": "markdown",
   "metadata": {
    "slideshow": {
     "slide_type": "slide"
    }
   },
   "source": [
    "## `AA 1111`\n",
    "## `AAA-1111`\n",
    "## `1AA1111`"
   ]
  },
  {
   "cell_type": "markdown",
   "metadata": {
    "slideshow": {
     "slide_type": "slide"
    }
   },
   "source": [
    "## `import re`\n",
    "\n",
    "In Python, regular expressions and their functions are part of a modlue in the standard library.<br>\n",
    "To access them, we need to import the module into any code we're running."
   ]
  },
  {
   "cell_type": "code",
   "execution_count": null,
   "metadata": {
    "slideshow": {
     "slide_type": "fragment"
    }
   },
   "outputs": [],
   "source": [
    "import re"
   ]
  },
  {
   "cell_type": "code",
   "execution_count": null,
   "metadata": {
    "slideshow": {
     "slide_type": "slide"
    }
   },
   "outputs": [],
   "source": [
    "# Note: if you run these as-is, you will get an error message.\n",
    "# Find first instance of a match\n",
    "# Returns a match object\n",
    "\n",
    "re.search(pattern, string)\n",
    "\n",
    "\n",
    "# Find all instances of a match\n",
    "# Returns a list of all matches\n",
    "\n",
    "re.findall(pattern, string)"
   ]
  },
  {
   "cell_type": "code",
   "execution_count": null,
   "metadata": {},
   "outputs": [],
   "source": [
    "nz_fact = \"Since an earthquake hit New Zealand in 2016, the South Island has crept 35 cm closer to the North Island.\"\n",
    "\n",
    "# In this case, the pattern = '\\d+', the string = nz_fact\n",
    "re.search('\\d+', nz_fact)"
   ]
  },
  {
   "cell_type": "code",
   "execution_count": null,
   "metadata": {
    "slideshow": {
     "slide_type": "slide"
    }
   },
   "outputs": [],
   "source": [
    "# Find the first word with at least 4 letters\n",
    "\n",
    "lor_fact = \"The music for The Lord of the Rings: The Two Towers was ineligible for an Oscar because it reused themes from the first film. This rule was specifically changed in order to allow The Return of the King to be nominated for Best Original Music Score, which it subsequently won.\"\n",
    "re.search('[a-z]{4,}', lor_fact)"
   ]
  },
  {
   "cell_type": "code",
   "execution_count": null,
   "metadata": {
    "slideshow": {
     "slide_type": "fragment"
    }
   },
   "outputs": [],
   "source": [
    "# Find all the words with at least 4 letters\n",
    "\n",
    "re.findall('[a-z]{4,}', lor_fact)"
   ]
  },
  {
   "cell_type": "markdown",
   "metadata": {
    "slideshow": {
     "slide_type": "slide"
    }
   },
   "source": [
    "# Anchors\n",
    "\n",
    "Anchors let you match the beginning or end of a string.<br>\n",
    "Use `^` to match the beginning of a string<br>\n",
    "Use `$` to match the end of a string.<br>\n",
    "### Because it doesn't fit anywhere else: Or.\n",
    "If you'd like to use `OR` in your Regex, use a pipe character, `|`"
   ]
  },
  {
   "cell_type": "code",
   "execution_count": null,
   "metadata": {
    "slideshow": {
     "slide_type": "slide"
    }
   },
   "outputs": [],
   "source": [
    "dk_fact = \"Denmark hated the letter Q so much they abolished it in 1872\"\n",
    "\n",
    "# Does this string start with \"Den\"?"
   ]
  },
  {
   "cell_type": "code",
   "execution_count": null,
   "metadata": {
    "slideshow": {
     "slide_type": "subslide"
    }
   },
   "outputs": [],
   "source": [
    "# Does it end with Q?\n"
   ]
  },
  {
   "cell_type": "code",
   "execution_count": null,
   "metadata": {
    "slideshow": {
     "slide_type": "subslide"
    }
   },
   "outputs": [],
   "source": [
    "# Is the fact about Denmark or Sweden?\n",
    "\n"
   ]
  },
  {
   "cell_type": "markdown",
   "metadata": {
    "slideshow": {
     "slide_type": "slide"
    }
   },
   "source": [
    "# Metacharacters\n",
    "\n",
    "### First, Character Classes\n",
    "Remember when we used `[a-z]` to find words with at least 4 letters?<br>\n",
    "Using brackets like that is called a *character class* and allows you to specify a group of characters to search for, such as `[0-9]` for all digits or `[A-Z]` for capital letters. If you *don't* want those characters, add `^` after the first bracket. `[^A-Z]` Will return any character that is not a capital letter. Any combination of characters can be in `[]`. `[aeiou]` is acceptable and will match any vowel.\n"
   ]
  },
  {
   "cell_type": "markdown",
   "metadata": {},
   "source": [
    "### But what if you want all letters, bother upper & lower case? Or a combination of letters & numbers? Or white space?\n",
    "That's where metacharacters come in. There's a variety of them available. Using one of these metacharacter codes will match any character that matches that description.\n",
    "\n",
    "Metacharacter | Characters        | Equivalent\n",
    "--------------|-------------------|------------\n",
    "      \\d      | Any digit         |`[0-9}`\n",
    "      \\D      | Any non-digit     |`[^0-9]`\n",
    "      \\s      | Any whitespace character | `[ \\t\\n\\r\\f\\v]`\n",
    "      \\S      | Any non-whitespace character | `[^ \\t\\n\\r\\f\\v]`\n",
    "      \\w      | Any alphanumeric character | `[a-zA-Z0-9_]`\n",
    "      \\W      | Any non-alphanumeric character | `[^a-zA-Z0-9_]`\n",
    "      .       | Any character (except a newline) | \n",
    "      \\b      | Word boundary (i.e. any whitespace or non-alphanumeric character. Note that this is non-capturing)\n"
   ]
  },
  {
   "cell_type": "code",
   "execution_count": null,
   "metadata": {
    "slideshow": {
     "slide_type": "slide"
    }
   },
   "outputs": [],
   "source": [
    "nut_fact = \"If other squirrels are watching, squirrels just pretend to bury their nuts and then they scuttle off to a secret location where they actually hide them.\"\n",
    "\n",
    "# Find the last letter in each word"
   ]
  },
  {
   "cell_type": "markdown",
   "metadata": {
    "slideshow": {
     "slide_type": "slide"
    }
   },
   "source": [
    "# Escaping\n",
    "\n",
    "You might have noticed we're starting to use some characters, `.$^|\\`, that you micht occasionally want to actually search for.\n",
    "\n",
    "If you want to search for one of them, put a `\\` in front of the character, like so - `\\|`"
   ]
  },
  {
   "cell_type": "markdown",
   "metadata": {
    "slideshow": {
     "slide_type": "slide"
    }
   },
   "source": [
    "# Quantifiers\n",
    "\n",
    "What if you want to see if a character is repeated? What if you think a specific character might be in the string, or it might not? That's where quantifiers come in. You can see if something is there once, multiple times, or not at all.\n",
    "\n",
    "Quantifier | Meaning        | Equivalent\n",
    "--------------|-------------------|------------\n",
    "      x?      | Matches x 0-1 times\n",
    "      x*      | Matches x 0 or more times     \n",
    "      x+      | Matches x 1 or more times \n",
    "      x{2}    | Exactly 2 of x \n",
    "      x{2,}   | 2 or more of x\n",
    "      x{2,4}  | 2-4 of x"
   ]
  },
  {
   "cell_type": "code",
   "execution_count": null,
   "metadata": {
    "slideshow": {
     "slide_type": "subslide"
    }
   },
   "outputs": [],
   "source": [
    "book_fact = \"A 2009 study by the University of Sussex found that reading for just 6 minutes can reduce stress levels by up to 68%.\"\n",
    "\n",
    "# What are all the numbers in the fact?\n",
    "\n",
    "# What if we want to know if it's a percentage?"
   ]
  },
  {
   "cell_type": "markdown",
   "metadata": {
    "slideshow": {
     "slide_type": "slide"
    }
   },
   "source": [
    "## Greedy vs. Lazy\n",
    "\n",
    "### Regular expressions by default are greedy -- they look for the longest match to their pattern\n",
    "### Adding the lazy qualifier, `?`, to regex returns the shortest possible string that matches the regex."
   ]
  },
  {
   "cell_type": "code",
   "execution_count": null,
   "metadata": {
    "slideshow": {
     "slide_type": "slide"
    }
   },
   "outputs": [],
   "source": [
    "play_fact = \"The word 'tragedy' has its roots in a Greek word that translates as 'goat song'. No one knows why.\"\n",
    "\n",
    "# Find everything in single quotes. Be careful of whether you need to be greedy or lazy!"
   ]
  },
  {
   "cell_type": "markdown",
   "metadata": {
    "slideshow": {
     "slide_type": "slide"
    }
   },
   "source": [
    "## Grouping\n",
    "\n",
    "### One of the most powerful features of Regular Expressions is the ability to work with groups.\n",
    "### These let you break down your regular expression matches into parts that can be used to isolate or substitute relevant data\n",
    "### Use the parentheses around what you like to have as a group `(ab)c` \n",
    "### Groups are numbered starting with 1. This is because the entire match object will always be object 0. (remember match objects from `re.search()`?) To reference a group, use the notation `\\g<1>`"
   ]
  },
  {
   "cell_type": "code",
   "execution_count": null,
   "metadata": {},
   "outputs": [],
   "source": [
    "castle_fact = \"UK castles include Almond Castle, Cadbury Castle, Cooling Castle, Deal Castle, Drum Castle, Eye Castle, Fail Castle, Fast Castle, Sandal Castle, and Stalker Castle.\"\n",
    "\n",
    "# Print just the names of each castle (NB: re.findall() will only return captured groups)"
   ]
  },
  {
   "cell_type": "markdown",
   "metadata": {},
   "source": [
    "## One last thing: `re.sub()`\n",
    "\n",
    "### To substitute a regular expression match for something else, use `re.sub(pattern, repl, string)` where *pattern* is the regular expression you're looking for, *repl* is what you want to replace it with, and string is the string you're searching through."
   ]
  },
  {
   "cell_type": "code",
   "execution_count": null,
   "metadata": {},
   "outputs": [],
   "source": [
    "wy_fact = \"In 1890, Congress was initially going to accept Wyoming as a new state only if it revoked its women’s voting rights, which they’d had since 1869. Wyoming answered with a telegram saying: ‘We will remain out of the Union one hundred years rather than come in without the women’.\"\n",
    "\n",
    "# Replace all the years with the string `[____]` to create a history quiz"
   ]
  },
  {
   "cell_type": "markdown",
   "metadata": {},
   "source": [
    "## Exercise\n",
    "\n",
    "you have the below dictionary of names and phone numbers. Unfortunately, all the phone numbers are in a different format. Can you get all the phone numbers to be in the same format?\n",
    "\n",
    "To do this, you will need re.sub()"
   ]
  },
  {
   "cell_type": "code",
   "execution_count": null,
   "metadata": {},
   "outputs": [],
   "source": [
    "companions = {\"Rose\":\"(672)623-7923\",\"Martha\":\"6427820946\",\"Donna\":\"962-672-9587\",\"Amy\":\"242.674.0481\",\"Rory\":\"381-534-9184\",\"Clara\":\"(526) 918-4813\",\"Bill\":\"145-654-9823\",\"Yaz\":\"324-912-0193\",\"Ryan\":\"317.874.0194\",\"Graham\":\"(723)418-3854\"}"
   ]
  },
  {
   "cell_type": "markdown",
   "metadata": {},
   "source": [
    "# Resources\n",
    "\n",
    "www.regex101.com<br>\n",
    "https://docs.python.org/3.6/howto/regex.html<br>\n",
    "Email: kathleenmburnett@gmail.com"
   ]
  },
  {
   "cell_type": "markdown",
   "metadata": {},
   "source": [
    "# Answers\n",
    "\n",
    "dk_fact\n",
    "1. `re.search('^Den', dk_fact)`\n",
    "2. `re.search('[0-9]$', dk_fact)`\n",
    "3. `re.search('Denmark|Sweden', dk_fact)`\n",
    "\n",
    "nut_fact\n",
    "1. `re.findall('\\w\\b', nut_fact)`\n",
    "\n",
    "book_fact\n",
    "1. `re.findall('\\d+', book_fact)`\n",
    "2. `re.findall('\\d+%?', book_fact)`\n",
    "\n",
    "play_fact\n",
    "1. `re.findall(\"'.*?'\", play_fact)`\n",
    "\n",
    "castle_fact\n",
    "1. `print(re.findall('(\\w*) Castle', castle_fact))`\n",
    "\n",
    "wy_fact\n",
    "1. `re.sub('\\d{4}', '[___]', wy_fact)`\n"
   ]
  },
  {
   "cell_type": "code",
   "execution_count": null,
   "metadata": {},
   "outputs": [],
   "source": [
    "# exercise answer:\n",
    "for first, phone in companions.items():\n",
    "    phone = re.sub(r'\\(?(\\d{3})\\)?[ .-]?(\\d{3})[ .-]?(\\d{4})', '\\g<1>\\g<2>\\g<3>', phone)\n",
    "    companions[first] = phone\n",
    "\n",
    "print(companions)`"
   ]
  }
 ],
 "metadata": {
  "kernelspec": {
   "display_name": "Python 3",
   "language": "python",
   "name": "python3"
  },
  "language_info": {
   "codemirror_mode": {
    "name": "ipython",
    "version": 3
   },
   "file_extension": ".py",
   "mimetype": "text/x-python",
   "name": "python",
   "nbconvert_exporter": "python",
   "pygments_lexer": "ipython3",
   "version": "3.6.7"
  }
 },
 "nbformat": 4,
 "nbformat_minor": 2
}
